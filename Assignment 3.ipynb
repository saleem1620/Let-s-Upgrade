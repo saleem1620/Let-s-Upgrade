{
 "cells": [
  {
   "cell_type": "markdown",
   "metadata": {},
   "source": [
    "# Questions 1:\n",
    "### Create a numpy array starting from 2 till 50 with a stepsize of 3."
   ]
  },
  {
   "cell_type": "code",
   "execution_count": 4,
   "metadata": {},
   "outputs": [
    {
     "name": "stdout",
     "output_type": "stream",
     "text": [
      "Array from 2 t 50 with stepsize of 3 = [ 2  5  8 11 14 17 20 23 26 29 32 35 38 41 44 47]\n"
     ]
    }
   ],
   "source": [
    "import numpy as np\n",
    "data = np.arange(2,50,3)\n",
    "print(\"Array from 2 t 50 with stepsize of 3 =\",data)"
   ]
  },
  {
   "cell_type": "markdown",
   "metadata": {},
   "source": [
    "# Questions 2:\n",
    "### Accept two lists of 5 elements each from the user. Convert them to numpy arrays. Concatenate these arrays and print it. Also sort these arrays and print it."
   ]
  },
  {
   "cell_type": "code",
   "execution_count": 49,
   "metadata": {},
   "outputs": [
    {
     "name": "stdout",
     "output_type": "stream",
     "text": [
      "Enter your 1st list =1\n",
      "Enter your 1st list =5\n",
      "Enter your 1st list =47\n",
      "Enter your 1st list =5\n",
      "Enter your 1st list =6\n",
      "\n",
      " Your 1st list = ['1' '5' '47' '5' '6']\n",
      "Enter your 2nd list =5\n",
      "Enter your 2nd list =5\n",
      "Enter your 2nd list =5\n",
      "Enter your 2nd list =4\n",
      "Enter your 2nd list =4\n",
      "\n",
      " Your 2st list = ['5' '5' '5' '4' '4']\n",
      "\n",
      " Concatenated and Sorted Output = ['1' '4' '4' '47' '5' '5' '5' '5' '5' '6']\n"
     ]
    }
   ],
   "source": [
    "import numpy as np\n",
    "\n",
    "u1 = []\n",
    "for i in range(5):\n",
    "    n = input(\"Enter your 1st list =\")\n",
    "    u1.append(n)\n",
    "\n",
    "u1 = np.array(u1)\n",
    "print(\"\\n Your 1st list =\",u1)\n",
    "print()\n",
    "u2 = []\n",
    "for j in range(5):\n",
    "    o = input(\"Enter your 2nd list =\")\n",
    "    u2.append(o)\n",
    "\n",
    "u2 = np.array(u2)\n",
    "print(\"\\n Your 2st list =\",u2)\n",
    "\n",
    "u3 = np.append(u1,u2)\n",
    "\n",
    "u3.sort()\n",
    "\n",
    "print(\"\\n Concatenated and Sorted Output =\",u3)"
   ]
  },
  {
   "cell_type": "markdown",
   "metadata": {},
   "source": [
    "# Questions 3:\n",
    "### Write a code snippet to find the dimensions of a ndarray and its size."
   ]
  },
  {
   "cell_type": "code",
   "execution_count": 27,
   "metadata": {},
   "outputs": [
    {
     "name": "stdout",
     "output_type": "stream",
     "text": [
      "shape =  (2, 2, 3)\n",
      "dimensions =  3\n",
      "Size = 12\n"
     ]
    }
   ],
   "source": [
    "import numpy as np\n",
    "a = np.array([[[1,2,3],[1,2,3]],[[12,3,4],[2,1,3]]])\n",
    "\n",
    "print(\"shape = \",np.shape(a))\n",
    "print(\"dimensions = \",len(a.shape))\n",
    "print(\"Size =\",np.size(a))"
   ]
  },
  {
   "cell_type": "markdown",
   "metadata": {},
   "source": [
    "# Questions 4:\n",
    "\n",
    "### How to convert a 1D array into a 2D array? Demonstrate with the help of a code snippet Hint: np.newaxis, np.expand_dims"
   ]
  },
  {
   "cell_type": "code",
   "execution_count": 42,
   "metadata": {},
   "outputs": [
    {
     "name": "stdout",
     "output_type": "stream",
     "text": [
      "[ 0  1  2  3  4  5  6  7  8  9 10 11]\n",
      "(12,)\n",
      "dimensions =  1\n",
      "[[ 0  1  2  3]\n",
      " [ 4  5  6  7]\n",
      " [ 8  9 10 11]]\n",
      "(3, 4)\n",
      "dimensions =  2\n",
      "[[[ 0  1  2  3]]\n",
      "\n",
      " [[ 4  5  6  7]]\n",
      "\n",
      " [[ 8  9 10 11]]]\n",
      "(3, 1, 4)\n",
      "dimensions =  3\n",
      "[[[[ 0  1  2  3]]\n",
      "\n",
      "  [[ 4  5  6  7]]\n",
      "\n",
      "  [[ 8  9 10 11]]]]\n",
      "(1, 3, 1, 4)\n",
      "dimensions =  4\n",
      "[[[[[ 0  1  2  3]]\n",
      "\n",
      "   [[ 4  5  6  7]]\n",
      "\n",
      "   [[ 8  9 10 11]]]]]\n",
      "(1, 1, 3, 1, 4)\n",
      "dimensions =  5\n"
     ]
    }
   ],
   "source": [
    "import numpy as np\n",
    "\n",
    "a = np.arange(12)\n",
    "print(a)\n",
    "print(a.shape)\n",
    "print(\"dimensions = \",len(a.shape))\n",
    "\n",
    "b = a.reshape(3,4)\n",
    "print(b)\n",
    "print(b.shape)\n",
    "print(\"dimensions = \",len(b.shape))\n",
    "\n",
    "c = b[:,np.newaxis]\n",
    "print(c)\n",
    "print(c.shape)\n",
    "print(\"dimensions = \",len(c.shape))\n",
    "\n",
    "d = c[np.newaxis,:]\n",
    "print(d)\n",
    "print(d.shape)\n",
    "print(\"dimensions = \",len(d.shape))\n",
    "\n",
    "e = np.expand_dims(d,axis=0)\n",
    "print(e)\n",
    "print(e.shape)\n",
    "print(\"dimensions = \",len(e.shape))"
   ]
  },
  {
   "cell_type": "markdown",
   "metadata": {},
   "source": [
    "# Questions 5:\n",
    "### Consider two square numpy arrays. Stack them vertically and horizontally. Hint: Use vstack(), hstack()"
   ]
  },
  {
   "cell_type": "code",
   "execution_count": 47,
   "metadata": {},
   "outputs": [
    {
     "name": "stdout",
     "output_type": "stream",
     "text": [
      "[[2 3 4 5]\n",
      " [4 5 6 7]\n",
      " [5 6 7 8]\n",
      " [6 7 8 9]]\n",
      "[[ 7  8  9 10]\n",
      " [ 8  9 10 11]\n",
      " [ 9 10 11 12]\n",
      " [10 11 12 13]]\n"
     ]
    }
   ],
   "source": [
    "a = np.array([range(i,i+4) for i in [2,4,5,6]])\n",
    "b = np.array([range(i,i+4) for i in [7,8,9,10]])\n",
    "print(a)\n",
    "print(b)"
   ]
  },
  {
   "cell_type": "code",
   "execution_count": 51,
   "metadata": {},
   "outputs": [
    {
     "name": "stdout",
     "output_type": "stream",
     "text": [
      "[[ 2  3  4  5]\n",
      " [ 4  5  6  7]\n",
      " [ 5  6  7  8]\n",
      " [ 6  7  8  9]\n",
      " [ 7  8  9 10]\n",
      " [ 8  9 10 11]\n",
      " [ 9 10 11 12]\n",
      " [10 11 12 13]]\n"
     ]
    }
   ],
   "source": [
    "avs = np.vstack([a,b])\n",
    "print(avs)"
   ]
  },
  {
   "cell_type": "code",
   "execution_count": 52,
   "metadata": {},
   "outputs": [
    {
     "name": "stdout",
     "output_type": "stream",
     "text": [
      "[[ 2  3  4  5  7  8  9 10]\n",
      " [ 4  5  6  7  8  9 10 11]\n",
      " [ 5  6  7  8  9 10 11 12]\n",
      " [ 6  7  8  9 10 11 12 13]]\n"
     ]
    }
   ],
   "source": [
    "ahs = np.hstack([a,b])\n",
    "print(ahs)"
   ]
  },
  {
   "cell_type": "code",
   "execution_count": 56,
   "metadata": {},
   "outputs": [
    {
     "name": "stdout",
     "output_type": "stream",
     "text": [
      "[[ 7  8  9 10]\n",
      " [ 8  9 10 11]\n",
      " [ 9 10 11 12]\n",
      " [10 11 12 13]\n",
      " [ 2  3  4  5]\n",
      " [ 4  5  6  7]\n",
      " [ 5  6  7  8]\n",
      " [ 6  7  8  9]]\n"
     ]
    }
   ],
   "source": [
    "bvs = np.vstack([b,a])\n",
    "print(bvs)"
   ]
  },
  {
   "cell_type": "code",
   "execution_count": 57,
   "metadata": {},
   "outputs": [
    {
     "name": "stdout",
     "output_type": "stream",
     "text": [
      "[[ 7  8  9 10  2  3  4  5]\n",
      " [ 8  9 10 11  4  5  6  7]\n",
      " [ 9 10 11 12  5  6  7  8]\n",
      " [10 11 12 13  6  7  8  9]]\n"
     ]
    }
   ],
   "source": [
    "bhs = np.hstack([b,a])\n",
    "print(bhs)"
   ]
  },
  {
   "cell_type": "markdown",
   "metadata": {},
   "source": [
    "# Questions 6:\n",
    "### How to get unique items and counts of unique items?"
   ]
  },
  {
   "cell_type": "code",
   "execution_count": 66,
   "metadata": {},
   "outputs": [
    {
     "name": "stdout",
     "output_type": "stream",
     "text": [
      "[[ 2  3  4  5  7  8  9 10]\n",
      " [ 4  5  6  7  8  9 10 11]\n",
      " [ 5  6  7  8  9 10 11 12]\n",
      " [ 6  7  8  9 10 11 12 13]]\n",
      "\n",
      "[[ 7  8  9 10  2  3  4  5]\n",
      " [ 8  9 10 11  4  5  6  7]\n",
      " [ 9 10 11 12  5  6  7  8]\n",
      " [10 11 12 13  6  7  8  9]]\n"
     ]
    }
   ],
   "source": [
    "import numpy as np\n",
    "\n",
    "# reuisng above arrays\n",
    "print(avs)\n",
    "print()\n",
    "print(bhs)"
   ]
  },
  {
   "cell_type": "code",
   "execution_count": 63,
   "metadata": {},
   "outputs": [
    {
     "data": {
      "text/plain": [
       "array([ 2,  3,  4,  5,  6,  7,  8,  9, 10, 11, 12, 13])"
      ]
     },
     "execution_count": 63,
     "metadata": {},
     "output_type": "execute_result"
    }
   ],
   "source": [
    "np.unique(avs)"
   ]
  },
  {
   "cell_type": "code",
   "execution_count": 65,
   "metadata": {},
   "outputs": [
    {
     "data": {
      "text/plain": [
       "32"
      ]
     },
     "execution_count": 65,
     "metadata": {},
     "output_type": "execute_result"
    }
   ],
   "source": [
    "np.size(bhs)"
   ]
  }
 ],
 "metadata": {
  "kernelspec": {
   "display_name": "Python 3",
   "language": "python",
   "name": "python3"
  },
  "language_info": {
   "codemirror_mode": {
    "name": "ipython",
    "version": 3
   },
   "file_extension": ".py",
   "mimetype": "text/x-python",
   "name": "python",
   "nbconvert_exporter": "python",
   "pygments_lexer": "ipython3",
   "version": "3.7.6"
  }
 },
 "nbformat": 4,
 "nbformat_minor": 4
}
