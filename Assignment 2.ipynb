{
 "cells": [
  {
   "cell_type": "markdown",
   "metadata": {},
   "source": [
    "## Questions 1:\n",
    "#### Create an empty list. Accept 10 numbers from the user and append to it the list if it is an even number."
   ]
  },
  {
   "cell_type": "code",
   "execution_count": 9,
   "metadata": {},
   "outputs": [
    {
     "name": "stdout",
     "output_type": "stream",
     "text": [
      "How many inputs :5\n",
      "Enter your Number :1\n",
      "Enter your Number :2\n",
      "Enter your Number :3\n",
      "Enter your Number :4\n",
      "Enter your Number :5\n",
      "Your output list : ['1', '2', '3', '4', '5']\n",
      "Odd : 1\n",
      "Even : 2\n",
      "Odd : 3\n",
      "Even : 4\n",
      "Odd : 5\n"
     ]
    }
   ],
   "source": [
    "a = []\n",
    "\n",
    "num = int(input(\"How many inputs :\"))\n",
    "\n",
    "for x in range(num):\n",
    "    b = input(\"Enter your Number :\")\n",
    "    a.append(b)\n",
    "\n",
    "print(\"Your output list :\", a)\n",
    "\n",
    "for x in a:\n",
    "    if int(x) % 2 == 0:\n",
    "        print(\"Even :\",x)\n",
    "    else:\n",
    "        print(\"Odd :\",x)\n",
    "    \n"
   ]
  },
  {
   "cell_type": "markdown",
   "metadata": {},
   "source": [
    "# Questions 3:\n",
    "#### You have seen in the videos how powerful dictionary data structure is.\n",
    "#### In this assignment, given a number n, you have to write a program that generates a dictionary d which\n",
    "#### contains (i, i*i), where i is from 1 to n (both included).\n",
    "#### Then you have to just print this dictionary d."
   ]
  },
  {
   "cell_type": "code",
   "execution_count": 10,
   "metadata": {},
   "outputs": [
    {
     "name": "stdout",
     "output_type": "stream",
     "text": [
      "How many inputs :5\n",
      "Your output dictionary : {0: 0, 1: 1, 2: 4, 3: 9, 4: 16}\n"
     ]
    }
   ],
   "source": [
    "a = {}\n",
    "\n",
    "num = int(input(\"How many inputs :\"))\n",
    "\n",
    "b = range(int(num))\n",
    "\n",
    "for i in b:\n",
    "    a[i] = i*i\n",
    "\n",
    "print(\"Your output dictionary :\",a)"
   ]
  },
  {
   "cell_type": "markdown",
   "metadata": {},
   "source": [
    "# Questions 4:"
   ]
  },
  {
   "cell_type": "raw",
   "metadata": {},
   "source": [
    "\n",
    "There is a robot which wants to go the charging point to charge itself.\n",
    "The robot moves in a 2-D plane from the original point (0,0). The robot can\n",
    "move toward UP, DOWN, LEFT and RIGHT with given steps.\n",
    "The trace of robot movement is shown as the following:\n",
    "UP 5\n",
    "DOWN 3\n",
    "LEFT 3\n",
    "RIGHT 2\n",
    "Then, the output of the program should be:\n",
    "2\n",
    "The numbers after the direction are steps.\n",
    "Write a program to compute the distance between the current position after\n",
    "a sequence of movement and original point. If the distance is a float, then\n",
    "just print the nearest integer (use round() function for that and then convert\n",
    "it into an integer).\n",
    "Input Format:\n",
    "The first line of the input contains a number n which implies the number of\n",
    "directions to be given.\n",
    "The next n lines contain the direction and the step separated by a space.\n",
    "Output Format:\n",
    "Print the distance from the original position to the current position.\n",
    "Example:\n",
    "Input:\n",
    "4\n",
    "UP 5\n",
    "DOWN 3\n",
    "LEFT 3\n",
    "RIGHT 2\n",
    "Output:\n",
    "2"
   ]
  },
  {
   "cell_type": "code",
   "execution_count": 8,
   "metadata": {},
   "outputs": [
    {
     "name": "stdout",
     "output_type": "stream",
     "text": [
      "Number of inputs :5\n",
      "Wrong set of inputs. Please try again...!\n",
      "0.0 from [0,0] to [0, 0]\n"
     ]
    }
   ],
   "source": [
    "import math\n",
    "#Init vars\n",
    "pos=[0,0]\n",
    "moves={\"UP\":[0,1],\n",
    "       \"DOWN\":[0,-1],\n",
    "       \"LEFT\":[-1,0],\n",
    "       \"RIGHT\":[1,0]}\n",
    "\n",
    "#Set inputs\n",
    "data = []\n",
    "inputs = int(input(\"Number of inputs :\"))\n",
    "if inputs >= 5:\n",
    "    print(\"Wrong set of inputs. Please try again...!\")\n",
    "else:\n",
    "    for i in range(inputs):\n",
    "        i = input(\"Enter your input: \")\n",
    "        data.append(i)\n",
    "\n",
    "#Move robot on valid moves\n",
    "for inp in data:\n",
    "    parts=inp.split()    \n",
    "    mv=parts[0]\n",
    "    val=parts[1]\n",
    "    if mv in moves and val.isnumeric():\n",
    "        pos[0] += moves[mv][0]*int(val)\n",
    "        pos[1] += moves[mv][1]*int(val)\n",
    "\n",
    "#get distance     \n",
    "distance=math.sqrt(pos[0]**2 + pos[1]**2)\n",
    "print(distance, \"from [0,0] to\",pos)\n",
    "\n",
    "#Or with nearest integer,but its weird\n",
    "#print(round(distance),\"from [0,0] to\",pos)"
   ]
  }
 ],
 "metadata": {
  "kernelspec": {
   "display_name": "Python 3",
   "language": "python",
   "name": "python3"
  },
  "language_info": {
   "codemirror_mode": {
    "name": "ipython",
    "version": 3
   },
   "file_extension": ".py",
   "mimetype": "text/x-python",
   "name": "python",
   "nbconvert_exporter": "python",
   "pygments_lexer": "ipython3",
   "version": "3.7.6"
  }
 },
 "nbformat": 4,
 "nbformat_minor": 4
}
